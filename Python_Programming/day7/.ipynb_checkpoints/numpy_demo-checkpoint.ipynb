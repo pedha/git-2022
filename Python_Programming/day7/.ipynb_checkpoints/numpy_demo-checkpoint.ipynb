{
 "cells": [
  {
   "cell_type": "code",
   "execution_count": 63,
   "id": "6eba3179-2f6f-45e4-ae2c-05de093b0e0c",
   "metadata": {
    "tags": []
   },
   "outputs": [],
   "source": [
    "import numpy as np # creating alias np for numpy"
   ]
  },
  {
   "cell_type": "code",
   "execution_count": 64,
   "id": "856295c2-f233-464e-9e48-f71a570df625",
   "metadata": {},
   "outputs": [
    {
     "data": {
      "text/plain": [
       "array([ 1,  2,  3,  4,  5, 76,  7,  3])"
      ]
     },
     "execution_count": 64,
     "metadata": {},
     "output_type": "execute_result"
    }
   ],
   "source": [
    "# numpy is for numerical calculation\n",
    "# it stores data in grid (arrays)\n",
    "np.array([1,2,3,4,5,76,7,3]) # 1D array"
   ]
  },
  {
   "cell_type": "code",
   "execution_count": 65,
   "id": "3983eb78-cbb7-4481-842b-940cd7f2f127",
   "metadata": {},
   "outputs": [
    {
     "data": {
      "text/plain": [
       "array([], dtype=float64)"
      ]
     },
     "execution_count": 65,
     "metadata": {},
     "output_type": "execute_result"
    }
   ],
   "source": [
    "np.array([])"
   ]
  },
  {
   "cell_type": "code",
   "execution_count": 66,
   "id": "054e5b3e-3996-4af0-9376-7026035c7f2a",
   "metadata": {},
   "outputs": [
    {
     "data": {
      "text/plain": [
       "array([[  1,   2,   3,   4],\n",
       "       [  1,  12,   3,   4],\n",
       "       [  1,   2,   3,   4],\n",
       "       [ 34, 543,  65,  56]])"
      ]
     },
     "execution_count": 66,
     "metadata": {},
     "output_type": "execute_result"
    }
   ],
   "source": [
    "np.array([[1,2,3,4],[1,12,3,4],[1,2,3,4],[34,543,65,56]])"
   ]
  },
  {
   "cell_type": "code",
   "execution_count": 67,
   "id": "77432b38-6b18-48a8-bfe3-521a6a659fdb",
   "metadata": {},
   "outputs": [],
   "source": [
    "x = np.array([[1,2,3,4],[1,12,3,4]])"
   ]
  },
  {
   "cell_type": "code",
   "execution_count": 68,
   "id": "bcb5097b-f3f5-4741-a191-39decd3bd12d",
   "metadata": {},
   "outputs": [
    {
     "data": {
      "text/plain": [
       "array([[ 1,  2,  3,  4],\n",
       "       [ 1, 12,  3,  4]])"
      ]
     },
     "execution_count": 68,
     "metadata": {},
     "output_type": "execute_result"
    }
   ],
   "source": [
    "x"
   ]
  },
  {
   "cell_type": "code",
   "execution_count": 69,
   "id": "d90746d6-5a81-49ac-b15f-80cd25c53199",
   "metadata": {},
   "outputs": [
    {
     "data": {
      "text/plain": [
       "array([1, 2, 3, 4])"
      ]
     },
     "execution_count": 69,
     "metadata": {},
     "output_type": "execute_result"
    }
   ],
   "source": [
    "x[0]"
   ]
  },
  {
   "cell_type": "code",
   "execution_count": 70,
   "id": "10e23c4b-f653-40b7-924a-65e5bc15f79b",
   "metadata": {},
   "outputs": [
    {
     "data": {
      "text/plain": [
       "array([ 1, 12,  3,  4])"
      ]
     },
     "execution_count": 70,
     "metadata": {},
     "output_type": "execute_result"
    }
   ],
   "source": [
    "x[1]"
   ]
  },
  {
   "cell_type": "code",
   "execution_count": 71,
   "id": "00e292e6-0650-4e05-968e-13d3c5e3fdd4",
   "metadata": {},
   "outputs": [
    {
     "data": {
      "text/plain": [
       "12"
      ]
     },
     "execution_count": 71,
     "metadata": {},
     "output_type": "execute_result"
    }
   ],
   "source": [
    "x[1,1] # single index value of row and col\n",
    "# x[row,col]"
   ]
  },
  {
   "cell_type": "code",
   "execution_count": 72,
   "id": "b775d9d3-cc42-43c4-9c79-50f848266f8c",
   "metadata": {},
   "outputs": [
    {
     "data": {
      "text/plain": [
       "array([[2, 3]])"
      ]
     },
     "execution_count": 72,
     "metadata": {},
     "output_type": "execute_result"
    }
   ],
   "source": [
    "x[0:1,1:3]"
   ]
  },
  {
   "cell_type": "code",
   "execution_count": 73,
   "id": "c9c7a7d4-5546-4a35-9a04-14cfaaf37f57",
   "metadata": {},
   "outputs": [],
   "source": [
    "x = np.array([[1,2,3,4],[1,12,3,4],[1,2,3,4],[34,543,65,56]])"
   ]
  },
  {
   "cell_type": "code",
   "execution_count": 74,
   "id": "fb24daf4-4686-463c-8176-ac7c619aae21",
   "metadata": {},
   "outputs": [
    {
     "data": {
      "text/plain": [
       "array([[  1,   2,   3,   4],\n",
       "       [  1,  12,   3,   4],\n",
       "       [  1,   2,   3,   4],\n",
       "       [ 34, 543,  65,  56]])"
      ]
     },
     "execution_count": 74,
     "metadata": {},
     "output_type": "execute_result"
    }
   ],
   "source": [
    "x"
   ]
  },
  {
   "cell_type": "code",
   "execution_count": 75,
   "id": "248578c5-e45e-4b9d-bfcd-96d4a176165a",
   "metadata": {},
   "outputs": [
    {
     "data": {
      "text/plain": [
       "array([[12,  3],\n",
       "       [ 2,  3]])"
      ]
     },
     "execution_count": 75,
     "metadata": {},
     "output_type": "execute_result"
    }
   ],
   "source": [
    "x[1:3,1:3]"
   ]
  },
  {
   "cell_type": "code",
   "execution_count": 76,
   "id": "5a993d8b-1ba9-45c0-a1ef-71514d7ec0cd",
   "metadata": {},
   "outputs": [
    {
     "data": {
      "text/plain": [
       "(4, 4)"
      ]
     },
     "execution_count": 76,
     "metadata": {},
     "output_type": "execute_result"
    }
   ],
   "source": [
    "x.shape"
   ]
  },
  {
   "cell_type": "code",
   "execution_count": 77,
   "id": "33a5d472-9605-4ca2-8a5f-420e724e3868",
   "metadata": {},
   "outputs": [
    {
     "data": {
      "text/plain": [
       "array([[  1,   1,   1,  34],\n",
       "       [  2,  12,   2, 543],\n",
       "       [  3,   3,   3,  65],\n",
       "       [  4,   4,   4,  56]])"
      ]
     },
     "execution_count": 77,
     "metadata": {},
     "output_type": "execute_result"
    }
   ],
   "source": [
    "x.T # Transpose of the matrix"
   ]
  },
  {
   "cell_type": "code",
   "execution_count": 78,
   "id": "affa2171-ba07-4269-9916-53e08f69b1ff",
   "metadata": {},
   "outputs": [],
   "source": [
    "x = np.array([[10,20,30],[40,50,60],[70,80,90]])"
   ]
  },
  {
   "cell_type": "code",
   "execution_count": 79,
   "id": "1a662b87-4555-42e5-9567-83c955493066",
   "metadata": {},
   "outputs": [
    {
     "data": {
      "text/plain": [
       "array([[10, 20, 30],\n",
       "       [40, 50, 60],\n",
       "       [70, 80, 90]])"
      ]
     },
     "execution_count": 79,
     "metadata": {},
     "output_type": "execute_result"
    }
   ],
   "source": [
    "x"
   ]
  },
  {
   "cell_type": "code",
   "execution_count": 80,
   "id": "8a6b8d7c-b8f7-4d25-ba88-d3d7d066f1af",
   "metadata": {},
   "outputs": [],
   "source": [
    "y = np.array([[1,2,3],[4,5,6],[7,8,90]])"
   ]
  },
  {
   "cell_type": "code",
   "execution_count": 81,
   "id": "d1087328-7fa3-401a-98eb-bd4944c292d3",
   "metadata": {},
   "outputs": [
    {
     "data": {
      "text/plain": [
       "array([[ 1,  2,  3],\n",
       "       [ 4,  5,  6],\n",
       "       [ 7,  8, 90]])"
      ]
     },
     "execution_count": 81,
     "metadata": {},
     "output_type": "execute_result"
    }
   ],
   "source": [
    "y"
   ]
  },
  {
   "cell_type": "code",
   "execution_count": 82,
   "id": "125c5da6-b4bd-4ad8-a9e9-4d96b0208592",
   "metadata": {},
   "outputs": [
    {
     "data": {
      "text/plain": [
       "array([[ 11,  22,  33],\n",
       "       [ 44,  55,  66],\n",
       "       [ 77,  88, 180]])"
      ]
     },
     "execution_count": 82,
     "metadata": {},
     "output_type": "execute_result"
    }
   ],
   "source": [
    "x + y # adding every element of one 2D array to 2D array"
   ]
  },
  {
   "cell_type": "code",
   "execution_count": 83,
   "id": "b0690f71-1ef8-4638-b54c-04da0a3395eb",
   "metadata": {},
   "outputs": [
    {
     "data": {
      "text/plain": [
       "array([[ 9, 18, 27],\n",
       "       [36, 45, 54],\n",
       "       [63, 72,  0]])"
      ]
     },
     "execution_count": 83,
     "metadata": {},
     "output_type": "execute_result"
    }
   ],
   "source": [
    "x - y # subtracting every element of one 2D array to 2D array"
   ]
  },
  {
   "cell_type": "code",
   "execution_count": 84,
   "id": "f86775ca-075c-47c1-aa49-7fb2bd55007c",
   "metadata": {},
   "outputs": [
    {
     "data": {
      "text/plain": [
       "array([[False, False, False],\n",
       "       [False, False, False],\n",
       "       [False, False,  True]])"
      ]
     },
     "execution_count": 84,
     "metadata": {},
     "output_type": "execute_result"
    }
   ],
   "source": [
    "x == y # checking every element of one 2D array to 2D array"
   ]
  },
  {
   "cell_type": "code",
   "execution_count": 85,
   "id": "b36c9f89-0acb-4bd6-ae76-ae4fe4f4d282",
   "metadata": {},
   "outputs": [
    {
     "data": {
      "text/plain": [
       "array([[  10,   40,   90],\n",
       "       [ 160,  250,  360],\n",
       "       [ 490,  640, 8100]])"
      ]
     },
     "execution_count": 85,
     "metadata": {},
     "output_type": "execute_result"
    }
   ],
   "source": [
    "x * y # multiplying every element of one 2D array to 2D array"
   ]
  },
  {
   "cell_type": "code",
   "execution_count": 86,
   "id": "c970b6cf-7b57-4279-a26a-ab941948dc5e",
   "metadata": {},
   "outputs": [
    {
     "data": {
      "text/plain": [
       "array([[10., 10., 10.],\n",
       "       [10., 10., 10.],\n",
       "       [10., 10.,  1.]])"
      ]
     },
     "execution_count": 86,
     "metadata": {},
     "output_type": "execute_result"
    }
   ],
   "source": [
    "x / y # dividing every element of one 2D array to 2D array"
   ]
  },
  {
   "cell_type": "code",
   "execution_count": 87,
   "id": "52199b73-e134-435f-9884-695eb6cf98eb",
   "metadata": {},
   "outputs": [
    {
     "data": {
      "text/plain": [
       "array([[0., 0., 0., 0.],\n",
       "       [0., 0., 0., 0.],\n",
       "       [0., 0., 0., 0.],\n",
       "       [0., 0., 0., 0.]])"
      ]
     },
     "execution_count": 87,
     "metadata": {},
     "output_type": "execute_result"
    }
   ],
   "source": [
    "np.zeros((4,4)) # tuple as a argument (row,col)"
   ]
  },
  {
   "cell_type": "code",
   "execution_count": 88,
   "id": "2b05b1d1-cbea-4a25-bf69-f75cd9349bde",
   "metadata": {},
   "outputs": [
    {
     "data": {
      "text/plain": [
       "array([[1., 1., 1., 1.],\n",
       "       [1., 1., 1., 1.],\n",
       "       [1., 1., 1., 1.],\n",
       "       [1., 1., 1., 1.]])"
      ]
     },
     "execution_count": 88,
     "metadata": {},
     "output_type": "execute_result"
    }
   ],
   "source": [
    "np.ones((4,4)) # tuple as a argument (row,col)"
   ]
  },
  {
   "cell_type": "code",
   "execution_count": 89,
   "id": "7d36c97a-939d-48c3-b44a-bc8125553198",
   "metadata": {},
   "outputs": [
    {
     "data": {
      "text/plain": [
       "array([[5, 5, 5, 5],\n",
       "       [5, 5, 5, 5],\n",
       "       [5, 5, 5, 5],\n",
       "       [5, 5, 5, 5]])"
      ]
     },
     "execution_count": 89,
     "metadata": {},
     "output_type": "execute_result"
    }
   ],
   "source": [
    "np.full((4,4),5) # tuple as a argument (row,col)"
   ]
  },
  {
   "cell_type": "code",
   "execution_count": 90,
   "id": "e98e7be0-beae-456e-9d81-846ee6f4b2be",
   "metadata": {},
   "outputs": [
    {
     "data": {
      "text/plain": [
       "array([[1., 0., 0.],\n",
       "       [0., 1., 0.],\n",
       "       [0., 0., 1.]])"
      ]
     },
     "execution_count": 90,
     "metadata": {},
     "output_type": "execute_result"
    }
   ],
   "source": [
    "np.eye(3) # identity matrix"
   ]
  },
  {
   "cell_type": "code",
   "execution_count": 91,
   "id": "a0292d97-8c4c-4777-92c6-ef49ab0e0e4d",
   "metadata": {},
   "outputs": [
    {
     "data": {
      "text/plain": [
       "array([[1, 0, 0, 0],\n",
       "       [0, 1, 0, 0],\n",
       "       [0, 0, 1, 0],\n",
       "       [0, 0, 0, 1]])"
      ]
     },
     "execution_count": 91,
     "metadata": {},
     "output_type": "execute_result"
    }
   ],
   "source": [
    "np.eye(4,dtype=int)"
   ]
  },
  {
   "cell_type": "code",
   "execution_count": 92,
   "id": "ed6e0b2a-de96-4f1f-80e2-a6222c261b03",
   "metadata": {},
   "outputs": [
    {
     "data": {
      "text/plain": [
       "array([[0.54699533, 0.16206125, 0.41118971],\n",
       "       [0.06915933, 0.74954694, 0.73756212],\n",
       "       [0.11201045, 0.73077358, 0.93847281]])"
      ]
     },
     "execution_count": 92,
     "metadata": {},
     "output_type": "execute_result"
    }
   ],
   "source": [
    "np.random.random((3,3))"
   ]
  },
  {
   "cell_type": "code",
   "execution_count": 93,
   "id": "b34799ca-0cde-4c15-ab97-41133cfecc58",
   "metadata": {},
   "outputs": [
    {
     "data": {
      "text/plain": [
       "array([[10, 20, 30],\n",
       "       [40, 50, 60],\n",
       "       [70, 80, 90]])"
      ]
     },
     "execution_count": 93,
     "metadata": {},
     "output_type": "execute_result"
    }
   ],
   "source": [
    "x"
   ]
  },
  {
   "cell_type": "code",
   "execution_count": 94,
   "id": "823ebe8a-265d-4fb1-90dd-df4ad890a292",
   "metadata": {},
   "outputs": [
    {
     "data": {
      "text/plain": [
       "array([[4603102115431364352, 4595006892246238488, 4601078955209749484],\n",
       "       [4589647875693594352, 4604926538150308562, 4604818588478334127],\n",
       "       [4592735623945431928, 4604757442831682852, 4606628231165089989]])"
      ]
     },
     "execution_count": 94,
     "metadata": {},
     "output_type": "execute_result"
    }
   ],
   "source": [
    "np.empty_like(x)"
   ]
  },
  {
   "cell_type": "code",
   "execution_count": 95,
   "id": "19ac11ff-7f86-4681-a495-239446156fff",
   "metadata": {},
   "outputs": [],
   "source": [
    "# indexing"
   ]
  },
  {
   "cell_type": "code",
   "execution_count": 96,
   "id": "457ba417-4e6d-41e7-8d64-1af2bd1c7c0e",
   "metadata": {},
   "outputs": [],
   "source": [
    "x = np.array([[10,20,30],[40,50,60],[70,80,90]])"
   ]
  },
  {
   "cell_type": "code",
   "execution_count": 97,
   "id": "19ae958a-18ed-412c-a3c7-9f0ad97f9809",
   "metadata": {},
   "outputs": [
    {
     "data": {
      "text/plain": [
       "array([[10, 20, 30],\n",
       "       [40, 50, 60],\n",
       "       [70, 80, 90]])"
      ]
     },
     "execution_count": 97,
     "metadata": {},
     "output_type": "execute_result"
    }
   ],
   "source": [
    "x"
   ]
  },
  {
   "cell_type": "code",
   "execution_count": 99,
   "id": "56eba0e8-9d64-498c-b0f0-10abd09d8ba1",
   "metadata": {},
   "outputs": [
    {
     "data": {
      "text/plain": [
       "array([20, 90, 40])"
      ]
     },
     "execution_count": 99,
     "metadata": {},
     "output_type": "execute_result"
    }
   ],
   "source": [
    "x[[0,2,1],[1,2,0]] # view from same array"
   ]
  },
  {
   "cell_type": "code",
   "execution_count": 100,
   "id": "924eda3a-df58-42f5-a6d3-41330afdca0d",
   "metadata": {},
   "outputs": [
    {
     "data": {
      "text/plain": [
       "array([20, 90, 40])"
      ]
     },
     "execution_count": 100,
     "metadata": {},
     "output_type": "execute_result"
    }
   ],
   "source": [
    "np.array([x[0,1],x[2,2],x[1,0]]) # separate array"
   ]
  },
  {
   "cell_type": "code",
   "execution_count": 101,
   "id": "0c061745-6a25-41ca-a1bf-08fba306f945",
   "metadata": {},
   "outputs": [
    {
     "data": {
      "text/plain": [
       "array([[10, 20, 30],\n",
       "       [40, 50, 60],\n",
       "       [70, 80, 90]])"
      ]
     },
     "execution_count": 101,
     "metadata": {},
     "output_type": "execute_result"
    }
   ],
   "source": [
    "x"
   ]
  },
  {
   "cell_type": "code",
   "execution_count": 106,
   "id": "61333b64-1fc8-43f9-9df2-0a149666b189",
   "metadata": {},
   "outputs": [
    {
     "data": {
      "text/plain": [
       "array([[False, False, False],\n",
       "       [False, False,  True],\n",
       "       [ True,  True,  True]])"
      ]
     },
     "execution_count": 106,
     "metadata": {},
     "output_type": "execute_result"
    }
   ],
   "source": [
    "x > 50 #create a array of true false"
   ]
  },
  {
   "cell_type": "code",
   "execution_count": 107,
   "id": "06eb1b96-5400-46c0-ac0f-f5b41bbf7dc7",
   "metadata": {},
   "outputs": [
    {
     "data": {
      "text/plain": [
       "array([60, 70, 80, 90])"
      ]
     },
     "execution_count": 107,
     "metadata": {},
     "output_type": "execute_result"
    }
   ],
   "source": [
    "x[x > 50] # creates a array of all elements greater than 5"
   ]
  },
  {
   "cell_type": "code",
   "execution_count": 108,
   "id": "b4694332-2d45-4007-b8ee-2a54ef7c8d20",
   "metadata": {},
   "outputs": [
    {
     "data": {
      "text/plain": [
       "array([[ 11,  22,  33],\n",
       "       [ 44,  55,  66],\n",
       "       [ 77,  88, 180]])"
      ]
     },
     "execution_count": 108,
     "metadata": {},
     "output_type": "execute_result"
    }
   ],
   "source": [
    "np.add(x,y) # x + y"
   ]
  },
  {
   "cell_type": "code",
   "execution_count": 111,
   "id": "1e7fa050-1816-4380-89a8-d009167b9c13",
   "metadata": {},
   "outputs": [
    {
     "data": {
      "text/plain": [
       "array([[ 9, 18, 27],\n",
       "       [36, 45, 54],\n",
       "       [63, 72,  0]])"
      ]
     },
     "execution_count": 111,
     "metadata": {},
     "output_type": "execute_result"
    }
   ],
   "source": [
    "np.subtract(x,y) # x - y"
   ]
  },
  {
   "cell_type": "code",
   "execution_count": 112,
   "id": "1969f85a-c463-4dc6-8798-10c767ed425d",
   "metadata": {},
   "outputs": [
    {
     "data": {
      "text/plain": [
       "array([[  10,   40,   90],\n",
       "       [ 160,  250,  360],\n",
       "       [ 490,  640, 8100]])"
      ]
     },
     "execution_count": 112,
     "metadata": {},
     "output_type": "execute_result"
    }
   ],
   "source": [
    "np.multiply(x,y) # x * y"
   ]
  },
  {
   "cell_type": "code",
   "execution_count": 113,
   "id": "299ee762-9805-4019-a74b-0049d273b37d",
   "metadata": {},
   "outputs": [
    {
     "data": {
      "text/plain": [
       "array([[10., 10., 10.],\n",
       "       [10., 10., 10.],\n",
       "       [10., 10.,  1.]])"
      ]
     },
     "execution_count": 113,
     "metadata": {},
     "output_type": "execute_result"
    }
   ],
   "source": [
    "np.divide(x,y) # x / y"
   ]
  },
  {
   "cell_type": "code",
   "execution_count": 114,
   "id": "be5d00ba-bc7d-4b53-b9e9-659921febf5e",
   "metadata": {},
   "outputs": [
    {
     "data": {
      "text/plain": [
       "array([[3.16227766, 4.47213595, 5.47722558],\n",
       "       [6.32455532, 7.07106781, 7.74596669],\n",
       "       [8.36660027, 8.94427191, 9.48683298]])"
      ]
     },
     "execution_count": 114,
     "metadata": {},
     "output_type": "execute_result"
    }
   ],
   "source": [
    "np.sqrt(x) "
   ]
  },
  {
   "cell_type": "code",
   "execution_count": 115,
   "id": "04021d4a-0c8d-44f4-9359-b42044aca73c",
   "metadata": {},
   "outputs": [
    {
     "data": {
      "text/plain": [
       "array([[1.        , 1.41421356, 1.73205081],\n",
       "       [2.        , 2.23606798, 2.44948974],\n",
       "       [2.64575131, 2.82842712, 9.48683298]])"
      ]
     },
     "execution_count": 115,
     "metadata": {},
     "output_type": "execute_result"
    }
   ],
   "source": [
    "np.sqrt(y)"
   ]
  },
  {
   "cell_type": "code",
   "execution_count": 116,
   "id": "31fac868-804d-4593-b6fa-cabfb6177898",
   "metadata": {},
   "outputs": [
    {
     "data": {
      "text/plain": [
       "array([[0, 0, 0],\n",
       "       [0, 0, 0],\n",
       "       [0, 0, 0]])"
      ]
     },
     "execution_count": 116,
     "metadata": {},
     "output_type": "execute_result"
    }
   ],
   "source": [
    "np.mod(x,y)"
   ]
  },
  {
   "cell_type": "code",
   "execution_count": 118,
   "id": "72b76173-fb54-4d8c-9c6d-b7779d275d4a",
   "metadata": {},
   "outputs": [
    {
     "data": {
      "text/plain": [
       "array([[ 300,  360, 2850],\n",
       "       [ 660,  810, 5820],\n",
       "       [1020, 1260, 8790]])"
      ]
     },
     "execution_count": 118,
     "metadata": {},
     "output_type": "execute_result"
    }
   ],
   "source": [
    "np.dot(x,y) # dot product"
   ]
  },
  {
   "cell_type": "code",
   "execution_count": 119,
   "id": "b26f1cdf-6ece-4686-a80e-c7da201cb863",
   "metadata": {},
   "outputs": [
    {
     "data": {
      "text/plain": [
       "array([ 60, 150, 240])"
      ]
     },
     "execution_count": 119,
     "metadata": {},
     "output_type": "execute_result"
    }
   ],
   "source": [
    "np.sum(x,axis=1)"
   ]
  },
  {
   "cell_type": "code",
   "execution_count": 120,
   "id": "5e4701ce-76ae-45a1-955b-05025170d4ff",
   "metadata": {},
   "outputs": [
    {
     "data": {
      "text/plain": [
       "array([120, 150, 180])"
      ]
     },
     "execution_count": 120,
     "metadata": {},
     "output_type": "execute_result"
    }
   ],
   "source": [
    "np.sum(x,axis=0)"
   ]
  },
  {
   "cell_type": "code",
   "execution_count": 121,
   "id": "f238ed8a-c386-4e57-aa1a-08f7367a5d2a",
   "metadata": {},
   "outputs": [
    {
     "data": {
      "text/plain": [
       "array([[10, 20, 30],\n",
       "       [40, 50, 60],\n",
       "       [70, 80, 90]])"
      ]
     },
     "execution_count": 121,
     "metadata": {},
     "output_type": "execute_result"
    }
   ],
   "source": [
    "x"
   ]
  },
  {
   "cell_type": "code",
   "execution_count": 123,
   "id": "03516020-83b4-4c3b-8ebd-7791f6b11087",
   "metadata": {},
   "outputs": [],
   "source": [
    "x=x[:2,:]"
   ]
  },
  {
   "cell_type": "code",
   "execution_count": 124,
   "id": "2b64b7d7-78ea-4f0d-822a-300bc4601738",
   "metadata": {},
   "outputs": [
    {
     "data": {
      "text/plain": [
       "array([[10, 20, 30],\n",
       "       [40, 50, 60]])"
      ]
     },
     "execution_count": 124,
     "metadata": {},
     "output_type": "execute_result"
    }
   ],
   "source": [
    "x"
   ]
  },
  {
   "cell_type": "code",
   "execution_count": 125,
   "id": "dc9025d1-f0b4-4440-a1c2-25e3e7165794",
   "metadata": {},
   "outputs": [
    {
     "data": {
      "text/plain": [
       "array([[10, 20],\n",
       "       [30, 40],\n",
       "       [50, 60]])"
      ]
     },
     "execution_count": 125,
     "metadata": {},
     "output_type": "execute_result"
    }
   ],
   "source": [
    "np.reshape(x,(3,2))"
   ]
  },
  {
   "cell_type": "code",
   "execution_count": 126,
   "id": "a6a99b0c-5cfb-4bc5-9a04-f740d1d27fe1",
   "metadata": {},
   "outputs": [],
   "source": [
    "x = np.array([[1,2],[3,4]],dtype = np.int32)"
   ]
  },
  {
   "cell_type": "code",
   "execution_count": 127,
   "id": "80e5618a-82d2-4feb-8404-4a72c25be1e0",
   "metadata": {},
   "outputs": [
    {
     "data": {
      "text/plain": [
       "array([[1, 2],\n",
       "       [3, 4]], dtype=int32)"
      ]
     },
     "execution_count": 127,
     "metadata": {},
     "output_type": "execute_result"
    }
   ],
   "source": [
    "x"
   ]
  },
  {
   "cell_type": "code",
   "execution_count": 128,
   "id": "c27af1a2-977e-4e46-83d3-14b70f20ce25",
   "metadata": {},
   "outputs": [],
   "source": [
    "y = np.ones((3,3),dtype = np.int64)"
   ]
  },
  {
   "cell_type": "code",
   "execution_count": 129,
   "id": "d31fcf8b-5d28-48d9-b068-e6c161d5645c",
   "metadata": {},
   "outputs": [
    {
     "data": {
      "text/plain": [
       "array([[1, 1, 1],\n",
       "       [1, 1, 1],\n",
       "       [1, 1, 1]])"
      ]
     },
     "execution_count": 129,
     "metadata": {},
     "output_type": "execute_result"
    }
   ],
   "source": [
    "y"
   ]
  },
  {
   "cell_type": "code",
   "execution_count": null,
   "id": "d6217eea-95a1-4b5b-a3aa-0a374596b730",
   "metadata": {},
   "outputs": [],
   "source": []
  }
 ],
 "metadata": {
  "kernelspec": {
   "display_name": "Python 3 (ipykernel)",
   "language": "python",
   "name": "python3"
  },
  "language_info": {
   "codemirror_mode": {
    "name": "ipython",
    "version": 3
   },
   "file_extension": ".py",
   "mimetype": "text/x-python",
   "name": "python",
   "nbconvert_exporter": "python",
   "pygments_lexer": "ipython3",
   "version": "3.9.7"
  }
 },
 "nbformat": 4,
 "nbformat_minor": 5
}
