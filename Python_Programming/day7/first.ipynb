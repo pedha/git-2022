{
 "cells": [
  {
   "cell_type": "code",
   "execution_count": 1,
   "id": "d038fa3e-bf85-405a-a938-f1e4e8cc6688",
   "metadata": {},
   "outputs": [
    {
     "name": "stdout",
     "output_type": "stream",
     "text": [
      "Hello\n",
      "Hii Siddhant\n"
     ]
    }
   ],
   "source": [
    "print(\"Hello\")\n",
    "print(\"Hii Siddhant\")"
   ]
  },
  {
   "cell_type": "code",
   "execution_count": 2,
   "id": "656ed455-e45f-4215-9f16-ed3324a9d82e",
   "metadata": {},
   "outputs": [],
   "source": [
    "a = 10"
   ]
  },
  {
   "cell_type": "code",
   "execution_count": 3,
   "id": "65c8c2f0-f531-485f-b74a-21486cf69c4b",
   "metadata": {},
   "outputs": [
    {
     "name": "stdout",
     "output_type": "stream",
     "text": [
      "Sid\n"
     ]
    }
   ],
   "source": [
    "b = 10\n",
    "print(\"Sid\")"
   ]
  },
  {
   "cell_type": "code",
   "execution_count": 4,
   "id": "381b8ef3-ad9e-45e6-a647-f681e1536b1a",
   "metadata": {},
   "outputs": [
    {
     "data": {
      "text/plain": [
       "20"
      ]
     },
     "execution_count": 4,
     "metadata": {},
     "output_type": "execute_result"
    }
   ],
   "source": [
    "a + b"
   ]
  },
  {
   "cell_type": "code",
   "execution_count": null,
   "id": "2ca8cb62-a43b-405d-9bba-b6a16bd2cfb5",
   "metadata": {},
   "outputs": [],
   "source": []
  },
  {
   "cell_type": "code",
   "execution_count": null,
   "id": "3b83870d-a528-44f4-b760-733a36841f78",
   "metadata": {},
   "outputs": [],
   "source": []
  }
 ],
 "metadata": {
  "kernelspec": {
   "display_name": "Python 3 (ipykernel)",
   "language": "python",
   "name": "python3"
  },
  "language_info": {
   "codemirror_mode": {
    "name": "ipython",
    "version": 3
   },
   "file_extension": ".py",
   "mimetype": "text/x-python",
   "name": "python",
   "nbconvert_exporter": "python",
   "pygments_lexer": "ipython3",
   "version": "3.9.7"
  }
 },
 "nbformat": 4,
 "nbformat_minor": 5
}
